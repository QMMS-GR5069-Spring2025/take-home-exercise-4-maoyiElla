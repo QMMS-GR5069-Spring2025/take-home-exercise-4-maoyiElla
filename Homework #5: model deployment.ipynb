{
 "cells": [
  {
   "cell_type": "code",
   "execution_count": 0,
   "metadata": {
    "application/vnd.databricks.v1+cell": {
     "cellMetadata": {
      "byteLimit": 2048000,
      "rowLimit": 10000
     },
     "inputWidgets": {},
     "nuid": "644bd43f-086d-4b02-8471-db180b26fefa",
     "showTitle": false,
     "tableResultSettingsMap": {},
     "title": ""
    }
   },
   "outputs": [],
   "source": [
    "import mlflow\n",
    "import boto3\n",
    "import pandas as pd"
   ]
  },
  {
   "cell_type": "code",
   "execution_count": 0,
   "metadata": {
    "application/vnd.databricks.v1+cell": {
     "cellMetadata": {
      "byteLimit": 2048000,
      "rowLimit": 10000
     },
     "inputWidgets": {},
     "nuid": "a72d11c4-a8b4-46ec-b34f-4546ff05f139",
     "showTitle": false,
     "tableResultSettingsMap": {},
     "title": ""
    }
   },
   "outputs": [],
   "source": [
    "# Set up S3 client and bucket\n",
    "s3 = boto3.client('s3')\n",
    "bucket = \"columbia-gr5069-main\"\n",
    "\n",
    "# List of files to load from the bucket\n",
    "keys = {\n",
    "    \"drivers\": \"raw/drivers.csv\",\n",
    "    \"races\": \"raw/races.csv\",\n",
    "    \"results\": \"raw/results.csv\",\n",
    "    \"constructors\": \"raw/constructors.csv\",\n",
    "}\n",
    "\n",
    "# Dictionary to store the loaded DataFrames\n",
    "dataframes = {}\n",
    "\n",
    "# Loop through and load each CSV into a DataFrame\n",
    "for name, key in keys.items():\n",
    "    obj = s3.get_object(Bucket=bucket, Key=key)\n",
    "    df = pd.read_csv(obj['Body'])\n",
    "    dataframes[name] = df\n",
    "    print(f\"Loaded {name} ({df.shape[0]} rows, {df.shape[1]} columns)\")\n",
    "\n",
    "# Example usage:\n",
    "drivers_df = dataframes['drivers']\n",
    "races_df = dataframes['races']\n",
    "results_df = dataframes['results']\n",
    "constructors_df = dataframes['constructors']\n",
    "\n",
    "# Preview a DataFrame\n",
    "display(drivers_df)\n",
    "display(races_df)\n",
    "display(results_df)\n",
    "display(constructors_df)"
   ]
  },
  {
   "cell_type": "code",
   "execution_count": 0,
   "metadata": {
    "application/vnd.databricks.v1+cell": {
     "cellMetadata": {
      "byteLimit": 2048000,
      "rowLimit": 10000
     },
     "inputWidgets": {},
     "nuid": "a1ee2e0e-69dc-4968-8c9e-1bdb7d96996a",
     "showTitle": false,
     "tableResultSettingsMap": {},
     "title": ""
    }
   },
   "outputs": [],
   "source": [
    "# merge four dataframes into one\n",
    "merged_df = pd.merge(results_df, races_df, on='raceId', how='left', suffixes=('', '_race'))\n",
    "merged_df = pd.merge(merged_df, drivers_df, on='driverId', how='left', suffixes=('', '_driver'))\n",
    "merged_df = pd.merge(merged_df, constructors_df, on='constructorId', how='left', suffixes=('', '_constructor'))\n",
    "merged_df['top_10'] = merged_df['positionOrder'] <= 10\n",
    "merged_df = merged_df[merged_df['positionOrder'].notnull()]\n",
    "\n",
    "merged_df['dob'] = pd.to_datetime(merged_df['dob'], errors='coerce')\n",
    "merged_df['date'] = pd.to_datetime(merged_df['date'], errors='coerce')\n",
    "\n",
    "# Calculate driver age at time of race\n",
    "merged_df['driver_age'] = (merged_df['date'] - merged_df['dob']).dt.days // 365\n",
    "\n",
    "# Select modeling features\n",
    "features = [\n",
    "    'grid',\n",
    "    'constructorRef',\n",
    "    'nationality',\n",
    "    'driver_age',\n",
    "    'year',\n",
    "    'round'\n",
    "]\n",
    "\n",
    "# Drop rows with missing values in selected features\n",
    "model_df = merged_df[features + ['top_10']].dropna()\n",
    "\n",
    "from sklearn.preprocessing import OneHotEncoder\n",
    "\n",
    "# One-hot encode categorical features\n",
    "categorical = ['constructorRef', 'nationality']\n",
    "model_df = pd.get_dummies(model_df, columns=categorical, drop_first=True)\n",
    "model_df.head()"
   ]
  },
  {
   "cell_type": "code",
   "execution_count": 0,
   "metadata": {
    "application/vnd.databricks.v1+cell": {
     "cellMetadata": {},
     "inputWidgets": {},
     "nuid": "4ae3ac9c-ce8f-4c1b-a15a-4eb0b48ca2e3",
     "showTitle": false,
     "tableResultSettingsMap": {},
     "title": ""
    }
   },
   "outputs": [],
   "source": []
  }
 ],
 "metadata": {
  "application/vnd.databricks.v1+notebook": {
   "computePreferences": null,
   "dashboards": [],
   "environmentMetadata": {
    "base_environment": "",
    "environment_version": "2"
   },
   "inputWidgetPreferences": null,
   "language": "python",
   "notebookMetadata": {
    "pythonIndentUnit": 4
   },
   "notebookName": "Homework #5: model deployment",
   "widgets": {}
  },
  "language_info": {
   "name": "python"
  }
 },
 "nbformat": 4,
 "nbformat_minor": 0
}
